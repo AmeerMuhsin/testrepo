{
 "cells": [
  {
   "cell_type": "markdown",
   "metadata": {},
   "source": [
    "<center>\n",
    "    <img src=\"https://s3-api.us-geo.objectstorage.softlayer.net/cf-courses-data/CognitiveClass/Logos/organization_logo/organization_logo.png\" width=\"300\" alt=\"cognitiveclass.ai logo\"  />\n",
    "</center>\n"
   ]
  },
  {
   "cell_type": "markdown",
   "metadata": {},
   "source": [
    "#### Add your code below following the instructions given in the course\n"
   ]
  },
  {
   "cell_type": "markdown",
   "metadata": {
    "tags": []
   },
   "source": [
    "# My Jupyter Notebook on IBM Watson Studio\n",
    "**Ameer Muhsin**\n",
    "\n",
    "Student\n",
    "\n",
    "_I am interested in data science because, I would love to contribute towards sports recruitments in the future_\n",
    "\n",
    "### The Following Code will Print all Prime Numbers in an Interval"
   ]
  },
  {
   "cell_type": "code",
   "execution_count": 7,
   "metadata": {},
   "outputs": [
    {
     "name": "stdout",
     "output_type": "stream",
     "text": [
      "Prime numbers between 90 and 100 are:\n",
      "97\n"
     ]
    }
   ],
   "source": [
    "low = 90\n",
    "up = 100\n",
    "\n",
    "print(\"Prime numbers between\", low, \"and\", up, \"are:\")\n",
    "\n",
    "for no in range(low, up + 1):\n",
    "   if num > 1:\n",
    "       for i in range(2, no):\n",
    "           if (no % i) == 0:\n",
    "               break\n",
    "       else:\n",
    "           print(nu)"
   ]
  },
  {
   "cell_type": "markdown",
   "metadata": {
    "tags": []
   },
   "source": [
    "Hobbies are\n",
    "___\n",
    "1. Photography\n",
    "2. Soccer\n",
    "   * Playing\n",
    "   * Gaming\n",
    "___\n",
    "[My GitHub](https://github.com/AmeerMuhsin)"
   ]
  },
  {
   "cell_type": "code",
   "execution_count": null,
   "metadata": {},
   "outputs": [],
   "source": []
  }
 ],
 "metadata": {
  "kernelspec": {
   "display_name": "Python",
   "language": "python",
   "name": "conda-env-python-py"
  },
  "language_info": {
   "codemirror_mode": {
    "name": "ipython",
    "version": 3
   },
   "file_extension": ".py",
   "mimetype": "text/x-python",
   "name": "python",
   "nbconvert_exporter": "python",
   "pygments_lexer": "ipython3",
   "version": "3.7.12"
  }
 },
 "nbformat": 4,
 "nbformat_minor": 4
}
